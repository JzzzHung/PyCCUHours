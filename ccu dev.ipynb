{
 "cells": [
  {
   "cell_type": "code",
   "execution_count": null,
   "metadata": {
    "metadata": {}
   },
   "outputs": [],
   "source": [
    "import time\n",
    "import random\n",
    "import pathlib\n",
    "from selenium import webdriver\n",
    "from selenium.webdriver.common.by import By\n",
    "from selenium.webdriver.support.ui import WebDriverWait\n",
    "from selenium.webdriver.support import expected_conditions as EC"
   ]
  },
  {
   "cell_type": "code",
   "execution_count": 2,
   "metadata": {
    "metadata": {}
   },
   "outputs": [],
   "source": [
    "chromeDriver = '.\\webdriver\\driver\\chromedriver.exe'\n",
    "\n",
    "projTypeXPath = '/html/body/center/form/div[2]/label[3]'\n",
    "typeInXPath = '/html/body/h3[4]/a'\n",
    "\n",
    "workType = 'pt_proj'\n",
    "url = f'https://www026190.ccu.edu.tw/{workType}/index.php'\n",
    "typeInUrl = f'https://www026190.ccu.edu.tw/{workType}/control2.php'\n",
    "printUrl = f'https://www026190.ccu.edu.tw/{workType}/print_sel.php'\n",
    "stuUrl = f'https://www026190.ccu.edu.tw/{workType}/frame_stu.php'\n",
    "stuTitle = '兼任助理、臨時工工作日誌登錄系統'"
   ]
  },
  {
   "cell_type": "code",
   "execution_count": null,
   "metadata": {
    "metadata": {}
   },
   "outputs": [],
   "source": [
    "######################################################\n",
    "driver = webdriver.Chrome(chromeDriver)\n",
    "driver.maximize_window()\n",
    "driver.get(pathlib.Path('./index.html').resolve().as_uri())\n",
    "okXPath = '//*[@id=\"ok\"]'\n",
    "\n",
    "wait = WebDriverWait(driver, 10)\n",
    "\n",
    "check = True\n",
    "while check:\n",
    "    try:\n",
    "        element = wait.until(\n",
    "            EC.text_to_be_present_in_element((By.XPATH, okXPath), 'GO')\n",
    "        )\n",
    "        print('OK')\n",
    "        check = False\n",
    "    except:\n",
    "        pass\n",
    "\n",
    "# print(driver.find_element_by_id('mm').get_attribute('value'))\n",
    "# driver.quit()\n",
    "# print('END')"
   ]
  },
  {
   "cell_type": "code",
   "execution_count": null,
   "metadata": {
    "metadata": {}
   },
   "outputs": [],
   "source": [
    "def getFromSingle(selector):\n",
    "    return driver.find_element_by_css_selector(selector).get_attribute('value')\n",
    "\n",
    "def getFromMultiple(selector, oneVal = 0):\n",
    "    ary = []\n",
    "    for i in driver.find_elements_by_css_selector(selector):\n",
    "        if i.is_selected():\n",
    "            ary.append(i.get_attribute('value'))\n",
    "    if oneVal:\n",
    "        return ary[0]\n",
    "    return ary\n",
    "\n",
    "_workin = getFromMultiple('.workin')\n",
    "_projID = getFromMultiple('.projID', 1)\n",
    "_hrs = getFromMultiple('.hrs', 1)\n",
    "_yy = getFromSingle('#yy')\n",
    "_mm = getFromSingle('#mm')\n",
    "_dd = getFromMultiple('.dd')\n",
    "print(_dd)"
   ]
  },
  {
   "cell_type": "code",
   "execution_count": 5,
   "metadata": {
    "metadata": {}
   },
   "outputs": [],
   "source": [
    "driver.get(url)"
   ]
  },
  {
   "cell_type": "code",
   "execution_count": 6,
   "metadata": {
    "metadata": {}
   },
   "outputs": [],
   "source": [
    "# 兼任助理\n",
    "driver.find_element_by_xpath(projTypeXPath).click()\n",
    "driver.execute_script('javascript:confirmAll()')"
   ]
  },
  {
   "cell_type": "code",
   "execution_count": 7,
   "metadata": {
    "metadata": {}
   },
   "outputs": [],
   "source": [
    "# 單一入口登入\n",
    "# input('PAUSE 1/5')"
   ]
  },
  {
   "cell_type": "code",
   "execution_count": null,
   "metadata": {
    "metadata": {}
   },
   "outputs": [],
   "source": [
    "\n",
    "check = True\n",
    "while check:\n",
    "    try:\n",
    "        element = wait.until(\n",
    "            EC.url_contains(stuUrl)\n",
    "        )\n",
    "        print('OK')\n",
    "        check = False\n",
    "    except:\n",
    "        pass\n"
   ]
  },
  {
   "cell_type": "code",
   "execution_count": 9,
   "metadata": {
    "metadata": {}
   },
   "outputs": [],
   "source": [
    "def acceptAlert():\n",
    "    time.sleep(1)\n",
    "    try:\n",
    "        anAlert = driver.switch_to.alert\n",
    "        print(anAlert.text)\n",
    "        anAlert.accept()\n",
    "    except:\n",
    "        print('No Alert')\n",
    "    ################################\n",
    "    # try:\n",
    "    #     wait.until(\n",
    "    #         EC.alert_is_present(),\n",
    "    #     )\n",
    "    #     driver.switch_to.alert.accept()\n",
    "    # except:\n",
    "    #     print('No Alert')\n",
    "    ################################"
   ]
  },
  {
   "cell_type": "code",
   "execution_count": null,
   "metadata": {
    "metadata": {}
   },
   "outputs": [],
   "source": [
    "acceptAlert()"
   ]
  },
  {
   "cell_type": "code",
   "execution_count": 11,
   "metadata": {
    "metadata": {}
   },
   "outputs": [],
   "source": [
    "# 進入輸入工作日誌\n",
    "driver.get(typeInUrl)"
   ]
  },
  {
   "cell_type": "code",
   "execution_count": 12,
   "metadata": {
    "metadata": {}
   },
   "outputs": [],
   "source": [
    "# input('CHECK 2/5')"
   ]
  },
  {
   "cell_type": "code",
   "execution_count": 13,
   "metadata": {
    "metadata": {}
   },
   "outputs": [],
   "source": [
    "# 新增工作時段\n",
    "\n",
    "def exec_a_job(projID, yy, mm, dd, hrs, workin):\n",
    "\n",
    "    # LOCATING\n",
    "    driver.switch_to.default_content()\n",
    "    driver.switch_to.frame('f2')\n",
    "\n",
    "    # 計畫編號\n",
    "    element = driver.find_element_by_xpath('//*[@id=\"accept\"]/center/table/tbody/tr[1]/td/select')\n",
    "    options = element.find_elements_by_tag_name('option')\n",
    "    for option in options:\n",
    "        if(option.get_attribute('value') == projID):\n",
    "            option.click()\n",
    "            break\n",
    "\n",
    "    # 日期\n",
    "    item = driver.find_element_by_name('yy')\n",
    "    item.clear()\n",
    "    item.send_keys(yy)\n",
    "    item = driver.find_element_by_name('mm')\n",
    "    item.clear()\n",
    "    item.send_keys(mm)\n",
    "    item = driver.find_element_by_name('dd')\n",
    "    item.clear()\n",
    "    item.send_keys(dd)\n",
    "\n",
    "    # 時數\n",
    "    item = driver.find_element_by_name('hrs')\n",
    "    item.clear()\n",
    "    item.send_keys(hrs)\n",
    "\n",
    "    # 內容\n",
    "    item = driver.find_element_by_name('workin')\n",
    "    item.clear()\n",
    "    item.send_keys(workin)\n",
    "\n",
    "    # SUBMIT\n",
    "    driver.find_element_by_xpath('//*[@id=\"accept\"]/center/input[1]').click()"
   ]
  },
  {
   "cell_type": "code",
   "execution_count": 14,
   "metadata": {
    "metadata": {}
   },
   "outputs": [],
   "source": [
    "# 新增工作時段\n",
    "for d in _dd:\n",
    "    exec_a_job(_projID, _yy, _mm, d, _hrs, _workin[random.randint(0, 2)]) # 主計畫"
   ]
  },
  {
   "cell_type": "code",
   "execution_count": 15,
   "metadata": {
    "metadata": {}
   },
   "outputs": [],
   "source": [
    "# input('PAUSE 3/5')"
   ]
  },
  {
   "cell_type": "code",
   "execution_count": 16,
   "metadata": {
    "metadata": {}
   },
   "outputs": [],
   "source": [
    "# 寫入資料庫\n",
    "driver.switch_to.default_content()\n",
    "driver.switch_to.frame('f2')\n",
    "driver.find_element_by_xpath('//*[@id=\"accept\"]/center/input[2]').click()"
   ]
  },
  {
   "cell_type": "code",
   "execution_count": 17,
   "metadata": {
    "metadata": {}
   },
   "outputs": [],
   "source": [
    "#  回主選單\n",
    "driver.switch_to.default_content()\n",
    "driver.find_element_by_xpath('/html/body/center[2]/input').click()"
   ]
  },
  {
   "cell_type": "code",
   "execution_count": 18,
   "metadata": {
    "metadata": {}
   },
   "outputs": [],
   "source": [
    "# input('PAUSE 4/5')"
   ]
  },
  {
   "cell_type": "code",
   "execution_count": null,
   "metadata": {
    "metadata": {}
   },
   "outputs": [],
   "source": [
    "acceptAlert()"
   ]
  },
  {
   "cell_type": "code",
   "execution_count": 20,
   "metadata": {
    "metadata": {}
   },
   "outputs": [],
   "source": [
    "# 進入產生批號\n",
    "driver.get(printUrl)"
   ]
  },
  {
   "cell_type": "code",
   "execution_count": 21,
   "metadata": {
    "metadata": {}
   },
   "outputs": [],
   "source": [
    "\n",
    "# 計畫編號\n",
    "element = driver.find_element_by_xpath('/html/body/form/center/table/tbody/tr[1]/td[2]/select')\n",
    "options = element.find_elements_by_tag_name('option')\n",
    "for option in options:\n",
    "    if(option.get_attribute('value') == _projID):\n",
    "        option.click()\n",
    "        break\n",
    "\n",
    "# SUBMIT\n",
    "driver.find_element_by_xpath('/html/body/form/center/input[1]').click()\n",
    "\n"
   ]
  },
  {
   "cell_type": "code",
   "execution_count": 22,
   "metadata": {
    "metadata": {}
   },
   "outputs": [],
   "source": [
    "# 全選\n",
    "driver.execute_script(\"javascript:chkall('form_ck',this)\")\n",
    "driver.find_element_by_xpath('//*[@id=\"form_ck\"]/table/tbody/tr[1]/th[1]/input').click()\n",
    "\n",
    "# SUBMIT\n",
    "driver.find_element_by_xpath('//*[@id=\"form_ck\"]/input[1]').click()"
   ]
  },
  {
   "cell_type": "code",
   "execution_count": null,
   "metadata": {
    "metadata": {}
   },
   "outputs": [],
   "source": [
    "acceptAlert()"
   ]
  },
  {
   "cell_type": "code",
   "execution_count": 24,
   "metadata": {
    "metadata": {}
   },
   "outputs": [],
   "source": [
    "# input('PAUSE 5/5')"
   ]
  },
  {
   "cell_type": "code",
   "execution_count": 25,
   "metadata": {
    "metadata": {}
   },
   "outputs": [],
   "source": [
    "driver.quit()"
   ]
  },
  {
   "cell_type": "code",
   "execution_count": null,
   "metadata": {},
   "outputs": [],
   "source": []
  },
  {
   "cell_type": "code",
   "execution_count": null,
   "metadata": {
    "metadata": {}
   },
   "outputs": [],
   "source": [
    "# TODO:\n",
    "# 1. Alert\n",
    "# 2. Cancel when listening wait"
   ]
  },
  {
   "cell_type": "code",
   "execution_count": null,
   "metadata": {},
   "outputs": [],
   "source": []
  }
 ],
 "metadata": {
  "kernelspec": {
   "display_name": "PyCCUHours",
   "language": "python",
   "name": "python3"
  },
  "language_info": {
   "codemirror_mode": {
    "name": "ipython",
    "version": 3
   },
   "file_extension": ".py",
   "mimetype": "text/x-python",
   "name": "python",
   "nbconvert_exporter": "python",
   "pygments_lexer": "ipython3",
   "version": "3.7.16"
  },
  "orig_nbformat": 4
 },
 "nbformat": 4,
 "nbformat_minor": 2
}
